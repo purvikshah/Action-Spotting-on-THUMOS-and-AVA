{
 "cells": [
  {
   "cell_type": "code",
   "execution_count": 1,
   "metadata": {},
   "outputs": [],
   "source": [
    "import pandas as pd"
   ]
  },
  {
   "cell_type": "code",
   "execution_count": 2,
   "metadata": {},
   "outputs": [],
   "source": [
    "df_asd = pd.read_csv(r\"C:\\Vision\\Project\\thumos14-human-searches.csv\")"
   ]
  },
  {
   "cell_type": "code",
   "execution_count": 3,
   "metadata": {},
   "outputs": [
    {
     "data": {
      "text/html": [
       "<div>\n",
       "<style scoped>\n",
       "    .dataframe tbody tr th:only-of-type {\n",
       "        vertical-align: middle;\n",
       "    }\n",
       "\n",
       "    .dataframe tbody tr th {\n",
       "        vertical-align: top;\n",
       "    }\n",
       "\n",
       "    .dataframe thead th {\n",
       "        text-align: right;\n",
       "    }\n",
       "</style>\n",
       "<table border=\"1\" class=\"dataframe\">\n",
       "  <thead>\n",
       "    <tr style=\"text-align: right;\">\n",
       "      <th></th>\n",
       "      <th>search-id</th>\n",
       "      <th>step-id</th>\n",
       "      <th>time</th>\n",
       "      <th>video-id</th>\n",
       "      <th>target-action</th>\n",
       "    </tr>\n",
       "  </thead>\n",
       "  <tbody>\n",
       "    <tr>\n",
       "      <th>0</th>\n",
       "      <td>0</td>\n",
       "      <td>0</td>\n",
       "      <td>340.806</td>\n",
       "      <td>video_validation_0000413</td>\n",
       "      <td>JavelinThrow</td>\n",
       "    </tr>\n",
       "    <tr>\n",
       "      <th>1</th>\n",
       "      <td>0</td>\n",
       "      <td>1</td>\n",
       "      <td>333.616</td>\n",
       "      <td>video_validation_0000413</td>\n",
       "      <td>JavelinThrow</td>\n",
       "    </tr>\n",
       "    <tr>\n",
       "      <th>2</th>\n",
       "      <td>0</td>\n",
       "      <td>2</td>\n",
       "      <td>332.897</td>\n",
       "      <td>video_validation_0000413</td>\n",
       "      <td>JavelinThrow</td>\n",
       "    </tr>\n",
       "    <tr>\n",
       "      <th>3</th>\n",
       "      <td>0</td>\n",
       "      <td>3</td>\n",
       "      <td>331.459</td>\n",
       "      <td>video_validation_0000413</td>\n",
       "      <td>JavelinThrow</td>\n",
       "    </tr>\n",
       "    <tr>\n",
       "      <th>4</th>\n",
       "      <td>0</td>\n",
       "      <td>4</td>\n",
       "      <td>330.740</td>\n",
       "      <td>video_validation_0000413</td>\n",
       "      <td>JavelinThrow</td>\n",
       "    </tr>\n",
       "  </tbody>\n",
       "</table>\n",
       "</div>"
      ],
      "text/plain": [
       "   search-id  step-id     time                  video-id target-action\n",
       "0          0        0  340.806  video_validation_0000413  JavelinThrow\n",
       "1          0        1  333.616  video_validation_0000413  JavelinThrow\n",
       "2          0        2  332.897  video_validation_0000413  JavelinThrow\n",
       "3          0        3  331.459  video_validation_0000413  JavelinThrow\n",
       "4          0        4  330.740  video_validation_0000413  JavelinThrow"
      ]
     },
     "execution_count": 3,
     "metadata": {},
     "output_type": "execute_result"
    }
   ],
   "source": [
    "df_asd.head(5)"
   ]
  },
  {
   "cell_type": "code",
   "execution_count": 4,
   "metadata": {},
   "outputs": [
    {
     "data": {
      "text/plain": [
       "20"
      ]
     },
     "execution_count": 4,
     "metadata": {},
     "output_type": "execute_result"
    }
   ],
   "source": [
    "len(df_asd['target-action'].unique())"
   ]
  },
  {
   "cell_type": "code",
   "execution_count": 5,
   "metadata": {},
   "outputs": [],
   "source": [
    "actions_considered = df_asd['target-action'].unique()"
   ]
  },
  {
   "cell_type": "code",
   "execution_count": 6,
   "metadata": {},
   "outputs": [],
   "source": [
    "videos_considered = df_asd['video-id'].unique()\n",
    "#print (videos_considered)"
   ]
  },
  {
   "cell_type": "code",
   "execution_count": 7,
   "metadata": {},
   "outputs": [],
   "source": [
    "import cv2\n",
    "duration_dict = {}\n",
    "for v in videos_considered:\n",
    "    temp = cv2.VideoCapture(\"C:\\Vision\\Project\\THUMOS\\\\\" + v + \".mp4\")\n",
    "    temp.set(cv2.CAP_PROP_POS_AVI_RATIO,1)\n",
    "    duration = temp.get(cv2.CAP_PROP_POS_MSEC)\n",
    "    duration_dict[v] = duration/1000"
   ]
  },
  {
   "cell_type": "code",
   "execution_count": 8,
   "metadata": {},
   "outputs": [],
   "source": [
    "#print (duration_dict)"
   ]
  },
  {
   "cell_type": "code",
   "execution_count": 9,
   "metadata": {},
   "outputs": [
    {
     "data": {
      "text/plain": [
       "array([1423, 1548, 1572, 1583, 1674, 1692, 1725, 1730, 1738, 1754, 1791],\n",
       "      dtype=int64)"
      ]
     },
     "execution_count": 9,
     "metadata": {},
     "output_type": "execute_result"
    }
   ],
   "source": [
    "df_asd[(df_asd['video-id'] == 'video_validation_0000789')]['search-id'].unique()"
   ]
  },
  {
   "cell_type": "markdown",
   "metadata": {},
   "source": [
    "# Random Baseline"
   ]
  },
  {
   "cell_type": "code",
   "execution_count": 11,
   "metadata": {},
   "outputs": [],
   "source": [
    "df_thumos_test = pd.read_csv(r\"C:\\Vision\\Project\\thumos14-train.csv\", names  = ['video_id', 'starting_time', 'ending_time', 'action_id'])"
   ]
  },
  {
   "cell_type": "code",
   "execution_count": 12,
   "metadata": {},
   "outputs": [
    {
     "data": {
      "text/html": [
       "<div>\n",
       "<style scoped>\n",
       "    .dataframe tbody tr th:only-of-type {\n",
       "        vertical-align: middle;\n",
       "    }\n",
       "\n",
       "    .dataframe tbody tr th {\n",
       "        vertical-align: top;\n",
       "    }\n",
       "\n",
       "    .dataframe thead th {\n",
       "        text-align: right;\n",
       "    }\n",
       "</style>\n",
       "<table border=\"1\" class=\"dataframe\">\n",
       "  <thead>\n",
       "    <tr style=\"text-align: right;\">\n",
       "      <th></th>\n",
       "      <th>video_id</th>\n",
       "      <th>starting_time</th>\n",
       "      <th>ending_time</th>\n",
       "      <th>action_id</th>\n",
       "    </tr>\n",
       "  </thead>\n",
       "  <tbody>\n",
       "    <tr>\n",
       "      <th>0</th>\n",
       "      <td>video_validation_0000266</td>\n",
       "      <td>72.8</td>\n",
       "      <td>76.4</td>\n",
       "      <td>7</td>\n",
       "    </tr>\n",
       "    <tr>\n",
       "      <th>1</th>\n",
       "      <td>video_validation_0000681</td>\n",
       "      <td>44.0</td>\n",
       "      <td>50.9</td>\n",
       "      <td>7</td>\n",
       "    </tr>\n",
       "    <tr>\n",
       "      <th>2</th>\n",
       "      <td>video_validation_0000682</td>\n",
       "      <td>1.5</td>\n",
       "      <td>5.4</td>\n",
       "      <td>7</td>\n",
       "    </tr>\n",
       "    <tr>\n",
       "      <th>3</th>\n",
       "      <td>video_validation_0000682</td>\n",
       "      <td>79.3</td>\n",
       "      <td>83.9</td>\n",
       "      <td>7</td>\n",
       "    </tr>\n",
       "    <tr>\n",
       "      <th>4</th>\n",
       "      <td>video_validation_0000683</td>\n",
       "      <td>0.3</td>\n",
       "      <td>5.5</td>\n",
       "      <td>7</td>\n",
       "    </tr>\n",
       "  </tbody>\n",
       "</table>\n",
       "</div>"
      ],
      "text/plain": [
       "                   video_id  starting_time  ending_time  action_id\n",
       "0  video_validation_0000266           72.8         76.4          7\n",
       "1  video_validation_0000681           44.0         50.9          7\n",
       "2  video_validation_0000682            1.5          5.4          7\n",
       "3  video_validation_0000682           79.3         83.9          7\n",
       "4  video_validation_0000683            0.3          5.5          7"
      ]
     },
     "execution_count": 12,
     "metadata": {},
     "output_type": "execute_result"
    }
   ],
   "source": [
    "df_thumos_test.head(5)"
   ]
  },
  {
   "cell_type": "code",
   "execution_count": 13,
   "metadata": {},
   "outputs": [
    {
     "name": "stdout",
     "output_type": "stream",
     "text": [
      "200\n",
      "195\n"
     ]
    }
   ],
   "source": [
    "videos = df_thumos_test['video_id'].unique()\n",
    "print (len(videos))\n",
    "print (len(videos_considered))\n",
    "\n",
    "act_dict = {7 : 'BaseballPitch',\n",
    "9 : 'BasketballDunk',\n",
    "12: 'Billiards',\n",
    "21: 'CleanAndJerk',\n",
    "22: 'CliffDiving',\n",
    "23: 'CricketBowling',\n",
    "24: 'CricketShot',\n",
    "26: 'Diving',\n",
    "31: 'FrisbeeCatch',\n",
    "33: 'GolfSwing',\n",
    "36: 'HammerThrow',\n",
    "40: 'HighJump',\n",
    "45: 'JavelinThrow',\n",
    "51: 'LongJump',\n",
    "68: 'PoleVault',\n",
    "79: 'Shotput',\n",
    "85: 'SoccerPenalty',\n",
    "92: 'TennisSwing',\n",
    "93: 'ThrowDiscus',\n",
    "97: 'VolleyballSpiking'}\n"
   ]
  },
  {
   "cell_type": "code",
   "execution_count": 18,
   "metadata": {},
   "outputs": [],
   "source": [
    "import random\n",
    "\n",
    "def find_action(data1, data2, video_id) :    \n",
    "    \n",
    "    search_num = 0;\n",
    "    min_local = 0\n",
    "    max_local = duration_dict[video_id]\n",
    "    for i in range(500) :\n",
    "        guess_time = random.uniform(min_local, max_local)\n",
    "        flag = 0\n",
    "#         for j in range(len(data1)):\n",
    "#             if guess_time > data1[j] and guess_time < data2[j]:\n",
    "#                 flag = 1\n",
    "#                 break;\n",
    "        if guess_time > data1[0] and guess_time < data2[0]:\n",
    "            flag = 1\n",
    "            break;\n",
    "        \n",
    "        search_num = search_num + 1\n",
    "        if flag == 1:\n",
    "            break;\n",
    "    \n",
    "    return search_num"
   ]
  },
  {
   "cell_type": "code",
   "execution_count": 19,
   "metadata": {},
   "outputs": [],
   "source": [
    "epochs = 10\n",
    "# For particular video\n",
    "action_spot = {}\n",
    "count_action = {}\n",
    "for video in videos :\n",
    "    if video in videos_considered:\n",
    "    \n",
    "        df_thumos_video = df_thumos_test[(df_thumos_test['video_id'] == video)]\n",
    "\n",
    "        avg = 0;\n",
    "        count = 0;\n",
    "\n",
    "        for epoch in range(epochs) :\n",
    "\n",
    "    #         For particular action\n",
    "            video_actions = df_thumos_video['action_id'].unique()\n",
    "            #print('Video', video)\n",
    "\n",
    "            for action in video_actions :            \n",
    "                temp = df_thumos_video[(df_thumos_video['action_id'] == action)]\n",
    "\n",
    "                as_metric = 500\n",
    "                while (as_metric == 500) :\n",
    "                    as_metric = find_action(temp['starting_time'].tolist(), temp['ending_time'].tolist(), video)\n",
    "\n",
    "                if action in action_spot:\n",
    "                    action_spot[action] = action_spot[action] + as_metric\n",
    "                    count_action[action] = count_action[action] + 1\n",
    "                else:\n",
    "                    action_spot[action] = as_metric\n",
    "                    count_action[action] = 1\n",
    "\n",
    "                #print('Action : %s , Spotted in : %i' % (act_dict[action], as_metric))\n",
    "                avg = avg + as_metric\n",
    "                count = count + 1\n",
    "    \n"
   ]
  },
  {
   "cell_type": "code",
   "execution_count": 20,
   "metadata": {},
   "outputs": [],
   "source": [
    "results = {}\n",
    "for key, value in action_spot.items():\n",
    "    results[key] = action_spot[key]/count_action[key]\n",
    "        "
   ]
  },
  {
   "cell_type": "code",
   "execution_count": 21,
   "metadata": {},
   "outputs": [
    {
     "name": "stdout",
     "output_type": "stream",
     "text": [
      "{7: 27.054545454545455, 31: 43.1, 9: 103.86666666666666, 12: 79.11, 21: 12.822222222222223, 22: 44.53, 26: 61.863157894736844, 23: 78.28823529411764, 24: 92.59375, 33: 35.6, 92: 78.56, 36: 52.41, 40: 83.1, 45: 84.56, 51: 41.3, 68: 42.85, 79: 29.24, 93: 16.463636363636365, 85: 29.68, 97: 59.266666666666666}\n"
     ]
    }
   ],
   "source": [
    "print (results)"
   ]
  },
  {
   "cell_type": "code",
   "execution_count": null,
   "metadata": {},
   "outputs": [],
   "source": []
  }
 ],
 "metadata": {
  "kernelspec": {
   "display_name": "Python 3",
   "language": "python",
   "name": "python3"
  },
  "language_info": {
   "codemirror_mode": {
    "name": "ipython",
    "version": 3
   },
   "file_extension": ".py",
   "mimetype": "text/x-python",
   "name": "python",
   "nbconvert_exporter": "python",
   "pygments_lexer": "ipython3",
   "version": "3.6.7"
  }
 },
 "nbformat": 4,
 "nbformat_minor": 2
}
