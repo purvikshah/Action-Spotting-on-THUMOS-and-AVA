{
 "cells": [
  {
   "cell_type": "code",
   "execution_count": 1,
   "metadata": {},
   "outputs": [],
   "source": [
    "import pandas as pd"
   ]
  },
  {
   "cell_type": "code",
   "execution_count": 2,
   "metadata": {},
   "outputs": [],
   "source": [
    "act_list = [\"bend/bow (at the waist)\", \"crawl\", \"crouch/kneel\", \"dance\", \"fall down\", \"get up\", \"jump/leap\", \"lie/sleep\", \"martial art\", \"run/jog\", \"sit\", \"stand\", \"swim\", \"walk\", \"answer phone\", \"brush teeth\", \"carry/hold (an object)\", \"catch (an object)\", \"chop\", \"climb (e.g., a mountain)\", \"clink glass\", \"close (e.g., a door, a box)\", \"cook\", \"cut\", \"dig\", \"dress/put on clothing\", \"drink\", \"drive (e.g., a car, a truck)\", \"eat\", \"enter\", \"exit\", \"extract\", \"fishing\", \"hit (an object)\", \"kick (an object)\", \"lift/pick up\", \"listen (e.g., to music)\", \"open (e.g., a window, a car door)\", \"paint\", \"play board game\", \"play musical instrument\", \"play with pets\", \"point to (an object)\", \"press\", \"pull (an object)\", \"push (an object)\", \"put down\", \"read\", \"ride (e.g., a bike, a car, a horse)\", \"row boat\", \"sail boat\", \"shoot\", \"shovel\", \"smoke\", \"stir\", \"take a photo\", \"text on/look at a cellphone\", \"throw\", \"touch (an object)\", \"turn (e.g., a screwdriver)\", \"watch (e.g., TV)\", \"work on a computer\", \"write\", \"fight/hit (a person)\", \"give/serve (an object) to (a person)\", \"grab (a person)\", \"hand clap\", \"hand shake\", \"hand wave\", \"hug (a person)\", \"kick (a person)\", \"kiss (a person)\", \"lift (a person)\", \"listen to (a person)\", \"play with kids\", \"push (another person)\", \"sing to (e.g., self, a person, a group)\", \"take (an object) from (a person)\", \"talk to (e.g., self, a person, a group)\", \"watch (a person)\"]"
   ]
  },
  {
   "cell_type": "code",
   "execution_count": 3,
   "metadata": {},
   "outputs": [],
   "source": [
    "act_dict = {}\n",
    "for i in range(len(act_list)) :\n",
    "    act_dict[i+1] = act_list[i]\n"
   ]
  },
  {
   "cell_type": "markdown",
   "metadata": {},
   "source": [
    "# Random Baseline"
   ]
  },
  {
   "cell_type": "code",
   "execution_count": 4,
   "metadata": {},
   "outputs": [],
   "source": [
    "df_ava_test = pd.read_csv(r\"C:\\Users\\Shoaib\\Desktop\\ava\\ava_test_v1.0_v.csv\", names  = ['video_id', 'middle_frame_timestamp', 'x1', 'y1', 'x2', 'y2', 'action_id'])"
   ]
  },
  {
   "cell_type": "code",
   "execution_count": 5,
   "metadata": {},
   "outputs": [
    {
     "data": {
      "text/html": [
       "<div>\n",
       "<style scoped>\n",
       "    .dataframe tbody tr th:only-of-type {\n",
       "        vertical-align: middle;\n",
       "    }\n",
       "\n",
       "    .dataframe tbody tr th {\n",
       "        vertical-align: top;\n",
       "    }\n",
       "\n",
       "    .dataframe thead th {\n",
       "        text-align: right;\n",
       "    }\n",
       "</style>\n",
       "<table border=\"1\" class=\"dataframe\">\n",
       "  <thead>\n",
       "    <tr style=\"text-align: right;\">\n",
       "      <th></th>\n",
       "      <th>video_id</th>\n",
       "      <th>middle_frame_timestamp</th>\n",
       "      <th>x1</th>\n",
       "      <th>y1</th>\n",
       "      <th>x2</th>\n",
       "      <th>y2</th>\n",
       "      <th>action_id</th>\n",
       "    </tr>\n",
       "  </thead>\n",
       "  <tbody>\n",
       "    <tr>\n",
       "      <th>0</th>\n",
       "      <td>053oq2xB3oU</td>\n",
       "      <td>904</td>\n",
       "      <td>0.061</td>\n",
       "      <td>0.168</td>\n",
       "      <td>0.774</td>\n",
       "      <td>0.877</td>\n",
       "      <td>11</td>\n",
       "    </tr>\n",
       "    <tr>\n",
       "      <th>1</th>\n",
       "      <td>053oq2xB3oU</td>\n",
       "      <td>904</td>\n",
       "      <td>0.302</td>\n",
       "      <td>0.242</td>\n",
       "      <td>0.560</td>\n",
       "      <td>0.657</td>\n",
       "      <td>12</td>\n",
       "    </tr>\n",
       "    <tr>\n",
       "      <th>2</th>\n",
       "      <td>053oq2xB3oU</td>\n",
       "      <td>904</td>\n",
       "      <td>0.661</td>\n",
       "      <td>0.241</td>\n",
       "      <td>0.894</td>\n",
       "      <td>0.857</td>\n",
       "      <td>11</td>\n",
       "    </tr>\n",
       "    <tr>\n",
       "      <th>3</th>\n",
       "      <td>053oq2xB3oU</td>\n",
       "      <td>904</td>\n",
       "      <td>0.837</td>\n",
       "      <td>0.221</td>\n",
       "      <td>0.991</td>\n",
       "      <td>0.858</td>\n",
       "      <td>12</td>\n",
       "    </tr>\n",
       "    <tr>\n",
       "      <th>4</th>\n",
       "      <td>053oq2xB3oU</td>\n",
       "      <td>907</td>\n",
       "      <td>0.000</td>\n",
       "      <td>0.201</td>\n",
       "      <td>0.313</td>\n",
       "      <td>0.964</td>\n",
       "      <td>12</td>\n",
       "    </tr>\n",
       "  </tbody>\n",
       "</table>\n",
       "</div>"
      ],
      "text/plain": [
       "      video_id  middle_frame_timestamp     x1     y1     x2     y2  action_id\n",
       "0  053oq2xB3oU                     904  0.061  0.168  0.774  0.877         11\n",
       "1  053oq2xB3oU                     904  0.302  0.242  0.560  0.657         12\n",
       "2  053oq2xB3oU                     904  0.661  0.241  0.894  0.857         11\n",
       "3  053oq2xB3oU                     904  0.837  0.221  0.991  0.858         12\n",
       "4  053oq2xB3oU                     907  0.000  0.201  0.313  0.964         12"
      ]
     },
     "execution_count": 5,
     "metadata": {},
     "output_type": "execute_result"
    }
   ],
   "source": [
    "df_ava_test.head(5)"
   ]
  },
  {
   "cell_type": "code",
   "execution_count": 6,
   "metadata": {},
   "outputs": [],
   "source": [
    "MIN = df_ava_test.middle_frame_timestamp.min()"
   ]
  },
  {
   "cell_type": "code",
   "execution_count": 7,
   "metadata": {},
   "outputs": [
    {
     "data": {
      "text/plain": [
       "904"
      ]
     },
     "execution_count": 7,
     "metadata": {},
     "output_type": "execute_result"
    }
   ],
   "source": [
    "MIN"
   ]
  },
  {
   "cell_type": "code",
   "execution_count": 8,
   "metadata": {},
   "outputs": [],
   "source": [
    "MAX = df_ava_test.middle_frame_timestamp.max()"
   ]
  },
  {
   "cell_type": "code",
   "execution_count": 9,
   "metadata": {},
   "outputs": [
    {
     "data": {
      "text/plain": [
       "1798"
      ]
     },
     "execution_count": 9,
     "metadata": {},
     "output_type": "execute_result"
    }
   ],
   "source": [
    "MAX"
   ]
  },
  {
   "cell_type": "code",
   "execution_count": 10,
   "metadata": {},
   "outputs": [],
   "source": [
    "import random\n",
    "\n",
    "def find_action(dataf) :    \n",
    "    \n",
    "    search_num = 1;\n",
    "    \n",
    "    for i in range(500) :\n",
    "        guess_time = random.randint(MIN, MAX)\n",
    "        if guess_time in dataf:\n",
    "            break;\n",
    "        if (guess_time - 1 in dataf) & (guess_time + 2 in dataf):\n",
    "            break;\n",
    "        if (guess_time - 2 in dataf) & (guess_time + 1 in dataf):\n",
    "            break;\n",
    "        else :\n",
    "            search_num = search_num + 1\n",
    "    \n",
    "    return search_num"
   ]
  },
  {
   "cell_type": "code",
   "execution_count": 11,
   "metadata": {},
   "outputs": [],
   "source": [
    "actions = df_ava_test['action_id'].unique()"
   ]
  },
  {
   "cell_type": "code",
   "execution_count": 12,
   "metadata": {},
   "outputs": [
    {
     "data": {
      "text/plain": [
       "76"
      ]
     },
     "execution_count": 12,
     "metadata": {},
     "output_type": "execute_result"
    }
   ],
   "source": [
    "len(actions)"
   ]
  },
  {
   "cell_type": "code",
   "execution_count": 13,
   "metadata": {},
   "outputs": [
    {
     "name": "stdout",
     "output_type": "stream",
     "text": [
      "Action sit\n",
      "avg 3.7392105263157895\n",
      "Action stand\n",
      "avg 2.9011842105263157\n",
      "Action watch (a person)\n",
      "avg 13.48671052631579\n",
      "Action sing to (e.g., self, a person, a group)\n",
      "avg 215.27\n",
      "Action talk to (e.g., self, a person, a group)\n",
      "avg 2.996578947368421\n",
      "Action listen to (a person)\n",
      "avg 6.381710526315789\n",
      "Action walk\n",
      "avg 23.1675\n",
      "Action carry/hold (an object)\n",
      "avg 6.765657894736842\n",
      "Action read\n",
      "avg 167.74796296296296\n",
      "Action write\n",
      "avg 215.80022727272728\n",
      "Action bend/bow (at the waist)\n",
      "avg 101.39131578947368\n",
      "Action watch (e.g., TV)\n",
      "avg 246.87985294117647\n",
      "Action run/jog\n",
      "avg 204.79481481481483\n",
      "Action touch (an object)\n",
      "avg 178.77765625\n",
      "Action hit (an object)\n",
      "avg 309.0857142857143\n",
      "Action get up\n",
      "avg 277.9960294117647\n",
      "Action lift/pick up\n",
      "avg 276.87035714285713\n",
      "Action push (an object)\n",
      "avg 342.5335714285714\n",
      "Action lie/sleep\n",
      "avg 125.3047619047619\n",
      "Action fight/hit (a person)\n",
      "avg 179.725\n",
      "Action grab (a person)\n",
      "avg 192.12548387096774\n",
      "Action hug (a person)\n",
      "avg 184.835\n",
      "Action push (another person)\n",
      "avg 325.9472727272727\n",
      "Action extract\n",
      "avg 384.508\n",
      "Action open (e.g., a window, a car door)\n",
      "avg 240.4383870967742\n",
      "Action throw\n",
      "avg 346.24954545454545\n",
      "Action give/serve (an object) to (a person)\n",
      "avg 241.85596774193547\n",
      "Action take (an object) from (a person)\n",
      "avg 296.4621153846154\n",
      "Action text on/look at a cellphone\n",
      "avg 313.413125\n",
      "Action eat\n",
      "avg 128.69431818181818\n",
      "Action smoke\n",
      "avg 139.233\n",
      "Action close (e.g., a door, a box)\n",
      "avg 287.5147727272727\n",
      "Action dress/put on clothing\n",
      "avg 274.3075\n",
      "Action take a photo\n",
      "avg 289.81875\n",
      "Action crouch/kneel\n",
      "avg 202.94760869565218\n",
      "Action pull (an object)\n",
      "avg 324.685625\n",
      "Action answer phone\n",
      "avg 59.25642857142857\n",
      "Action hand wave\n",
      "avg 282.4708823529412\n",
      "Action catch (an object)\n",
      "avg 294.84791666666666\n",
      "Action drink\n",
      "avg 234.01125\n",
      "Action play with kids\n",
      "avg 314.851\n",
      "Action hand shake\n",
      "avg 340.3834615384615\n",
      "Action play musical instrument\n",
      "avg 143.54214285714286\n",
      "Action put down\n",
      "avg 269.06839285714284\n",
      "Action point to (an object)\n",
      "avg 358.217\n",
      "Action drive (e.g., a car, a truck)\n",
      "avg 262.72444444444443\n",
      "Action ride (e.g., a bike, a car, a horse)\n",
      "avg 136.14\n",
      "Action listen (e.g., to music)\n",
      "avg 272.3\n",
      "Action dance\n",
      "avg 158.86357142857142\n",
      "Action cook\n",
      "avg 237.71666666666667\n",
      "Action stir\n",
      "avg 314.715\n",
      "Action kiss (a person)\n",
      "avg 275.7529411764706\n",
      "Action enter\n",
      "avg 363.14\n",
      "Action kick (an object)\n",
      "avg 321.56166666666667\n",
      "Action dig\n",
      "avg 198.65\n",
      "Action play with pets\n",
      "avg 272.015\n",
      "Action jump/leap\n",
      "avg 329.9192857142857\n",
      "Action press\n",
      "avg 352.63\n",
      "Action cut\n",
      "avg 191.545\n",
      "Action fall down\n",
      "avg 304.138\n",
      "Action lift (a person)\n",
      "avg 293.52222222222224\n",
      "Action chop\n",
      "avg 284.34\n",
      "Action climb (e.g., a mountain)\n",
      "avg 348.73333333333335\n",
      "Action fishing\n",
      "avg 127.53\n",
      "Action clink glass\n",
      "avg 370.575\n",
      "Action hand clap\n",
      "avg 294.13142857142856\n",
      "Action shoot\n",
      "avg 324.89875\n",
      "Action crawl\n",
      "avg 405.66\n",
      "Action exit\n",
      "avg 396.25\n",
      "Action martial art\n",
      "avg 47.78\n",
      "Action kick (a person)\n",
      "avg 297.39\n",
      "Action swim\n",
      "avg 191.48\n",
      "Action paint\n",
      "avg 204.58\n",
      "Action sail boat\n",
      "avg 372.085\n",
      "Action work on a computer\n",
      "avg 103.29166666666667\n",
      "Action play board game\n",
      "avg 100.4\n"
     ]
    }
   ],
   "source": [
    "for action in actions :\n",
    "    print('Action', act_dict[action])\n",
    "\n",
    "    df_ava_test_action = df_ava_test[(df_ava_test['action_id'] == action)]\n",
    "    epochs = 200\n",
    "    \n",
    "    total = 0;\n",
    "    count = 0;\n",
    "    \n",
    "    for epoch in range(epochs) :\n",
    "        \n",
    "        videos_with_action = df_ava_test_action['video_id'].unique()\n",
    "        # For particular video\n",
    "        for video in videos_with_action :\n",
    "            df_ava_video_action = df_ava_test_action[(df_ava_test_action['video_id'] == video) & (df_ava_test_action['action_id'] == action)]\n",
    "    \n",
    "#             print('Video', video)\n",
    "\n",
    "            as_metric = 500\n",
    "            while (as_metric == 500) :\n",
    "                as_metric = find_action(df_ava_video_action['middle_frame_timestamp'].tolist())\n",
    "\n",
    "#             print('Action : %s , Spotted in : %i' % (act_dict[action], as_metric))\n",
    "            total = total + as_metric\n",
    "            count = count + 1\n",
    "    print('avg', total/count)"
   ]
  },
  {
   "cell_type": "code",
   "execution_count": null,
   "metadata": {},
   "outputs": [],
   "source": []
  }
 ],
 "metadata": {
  "kernelspec": {
   "display_name": "Python 3",
   "language": "python",
   "name": "python3"
  },
  "language_info": {
   "codemirror_mode": {
    "name": "ipython",
    "version": 3
   },
   "file_extension": ".py",
   "mimetype": "text/x-python",
   "name": "python",
   "nbconvert_exporter": "python",
   "pygments_lexer": "ipython3",
   "version": "3.6.5"
  }
 },
 "nbformat": 4,
 "nbformat_minor": 2
}
