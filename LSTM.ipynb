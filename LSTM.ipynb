{
  "nbformat": 4,
  "nbformat_minor": 0,
  "metadata": {
    "colab": {
      "name": "LSTM.ipynb",
      "version": "0.3.2",
      "provenance": [],
      "collapsed_sections": []
    },
    "kernelspec": {
      "name": "python3",
      "display_name": "Python 3"
    },
    "accelerator": "GPU"
  },
  "cells": [
    {
      "metadata": {
        "id": "KtwPC7ENV3oC",
        "colab_type": "code",
        "outputId": "739b9f2d-82e7-48a6-f95d-c1c47335fc16",
        "colab": {
          "base_uri": "https://localhost:8080/",
          "height": 373
        }
      },
      "cell_type": "code",
      "source": [
        "!pip install torch\n",
        "!pip install torchvision"
      ],
      "execution_count": 1,
      "outputs": [
        {
          "output_type": "stream",
          "text": [
            "Collecting torch\n",
            "\u001b[?25l  Downloading https://files.pythonhosted.org/packages/7e/60/66415660aa46b23b5e1b72bc762e816736ce8d7260213e22365af51e8f9c/torch-1.0.0-cp36-cp36m-manylinux1_x86_64.whl (591.8MB)\n",
            "\u001b[K    100% |████████████████████████████████| 591.8MB 29kB/s \n",
            "tcmalloc: large alloc 1073750016 bytes == 0x62804000 @  0x7fb85fd052a4 0x591a07 0x5b5d56 0x502e9a 0x506859 0x502209 0x502f3d 0x506859 0x504c28 0x502540 0x502f3d 0x506859 0x504c28 0x502540 0x502f3d 0x506859 0x504c28 0x502540 0x502f3d 0x507641 0x502209 0x502f3d 0x506859 0x504c28 0x502540 0x502f3d 0x507641 0x504c28 0x502540 0x502f3d 0x507641\n",
            "\u001b[?25hInstalling collected packages: torch\n",
            "Successfully installed torch-1.0.0\n",
            "Collecting torchvision\n",
            "\u001b[?25l  Downloading https://files.pythonhosted.org/packages/ca/0d/f00b2885711e08bd71242ebe7b96561e6f6d01fdb4b9dcf4d37e2e13c5e1/torchvision-0.2.1-py2.py3-none-any.whl (54kB)\n",
            "\u001b[K    100% |████████████████████████████████| 61kB 2.4MB/s \n",
            "\u001b[?25hRequirement already satisfied: numpy in /usr/local/lib/python3.6/dist-packages (from torchvision) (1.14.6)\n",
            "Collecting pillow>=4.1.1 (from torchvision)\n",
            "\u001b[?25l  Downloading https://files.pythonhosted.org/packages/62/94/5430ebaa83f91cc7a9f687ff5238e26164a779cca2ef9903232268b0a318/Pillow-5.3.0-cp36-cp36m-manylinux1_x86_64.whl (2.0MB)\n",
            "\u001b[K    100% |████████████████████████████████| 2.0MB 14.1MB/s \n",
            "\u001b[?25hRequirement already satisfied: torch in /usr/local/lib/python3.6/dist-packages (from torchvision) (1.0.0)\n",
            "Requirement already satisfied: six in /usr/local/lib/python3.6/dist-packages (from torchvision) (1.11.0)\n",
            "Installing collected packages: pillow, torchvision\n",
            "  Found existing installation: Pillow 4.0.0\n",
            "    Uninstalling Pillow-4.0.0:\n",
            "      Successfully uninstalled Pillow-4.0.0\n",
            "Successfully installed pillow-5.3.0 torchvision-0.2.1\n"
          ],
          "name": "stdout"
        }
      ]
    },
    {
      "metadata": {
        "id": "-mPaK0uMV7DF",
        "colab_type": "code",
        "colab": {}
      },
      "cell_type": "code",
      "source": [
        "import cv2\n",
        "import numpy as np\n",
        "import matplotlib.pyplot as plt\n",
        "import random \n",
        "\n",
        "import torch\n",
        "import torchvision\n",
        "import torchvision.transforms as transforms\n",
        "\n",
        "from torch.autograd import Variable\n",
        "import torch.nn as nn\n",
        "import torch.nn.functional as F\n",
        "\n",
        "from scipy import io\n",
        "import pandas as pd\n"
      ],
      "execution_count": 0,
      "outputs": []
    },
    {
      "metadata": {
        "id": "60_pr4q3V8MY",
        "colab_type": "code",
        "outputId": "ff287ddc-92bf-4956-ff61-fe266c1af0eb",
        "colab": {
          "base_uri": "https://localhost:8080/",
          "height": 34
        }
      },
      "cell_type": "code",
      "source": [
        "from google.colab import drive\n",
        "drive.mount('/content/drive')"
      ],
      "execution_count": 8,
      "outputs": [
        {
          "output_type": "stream",
          "text": [
            "Drive already mounted at /content/drive; to attempt to forcibly remount, call drive.mount(\"/content/drive\", force_remount=True).\n"
          ],
          "name": "stdout"
        }
      ]
    },
    {
      "metadata": {
        "id": "cw2N0m1fV-Si",
        "colab_type": "code",
        "outputId": "602b0c9f-4b09-46ef-f3f9-de4a65129220",
        "colab": {
          "base_uri": "https://localhost:8080/",
          "height": 195
        }
      },
      "cell_type": "code",
      "source": [
        "df_asd = pd.read_csv(r\"drive/My Drive/ava/ava-human-searches_anno.csv\")\n",
        "df_asd.head(5)"
      ],
      "execution_count": 9,
      "outputs": [
        {
          "output_type": "execute_result",
          "data": {
            "text/html": [
              "<div>\n",
              "<style scoped>\n",
              "    .dataframe tbody tr th:only-of-type {\n",
              "        vertical-align: middle;\n",
              "    }\n",
              "\n",
              "    .dataframe tbody tr th {\n",
              "        vertical-align: top;\n",
              "    }\n",
              "\n",
              "    .dataframe thead th {\n",
              "        text-align: right;\n",
              "    }\n",
              "</style>\n",
              "<table border=\"1\" class=\"dataframe\">\n",
              "  <thead>\n",
              "    <tr style=\"text-align: right;\">\n",
              "      <th></th>\n",
              "      <th>search-id</th>\n",
              "      <th>step-id</th>\n",
              "      <th>time</th>\n",
              "      <th>video-id</th>\n",
              "      <th>target-action</th>\n",
              "    </tr>\n",
              "  </thead>\n",
              "  <tbody>\n",
              "    <tr>\n",
              "      <th>0</th>\n",
              "      <td>0</td>\n",
              "      <td>0</td>\n",
              "      <td>849.623600</td>\n",
              "      <td>Ag-pXiLrd48</td>\n",
              "      <td>clink glass</td>\n",
              "    </tr>\n",
              "    <tr>\n",
              "      <th>1</th>\n",
              "      <td>0</td>\n",
              "      <td>1</td>\n",
              "      <td>852.323675</td>\n",
              "      <td>Ag-pXiLrd48</td>\n",
              "      <td>clink glass</td>\n",
              "    </tr>\n",
              "    <tr>\n",
              "      <th>2</th>\n",
              "      <td>0</td>\n",
              "      <td>2</td>\n",
              "      <td>855.023750</td>\n",
              "      <td>Ag-pXiLrd48</td>\n",
              "      <td>clink glass</td>\n",
              "    </tr>\n",
              "    <tr>\n",
              "      <th>3</th>\n",
              "      <td>0</td>\n",
              "      <td>3</td>\n",
              "      <td>850.523625</td>\n",
              "      <td>Ag-pXiLrd48</td>\n",
              "      <td>clink glass</td>\n",
              "    </tr>\n",
              "    <tr>\n",
              "      <th>4</th>\n",
              "      <td>0</td>\n",
              "      <td>4</td>\n",
              "      <td>853.223700</td>\n",
              "      <td>Ag-pXiLrd48</td>\n",
              "      <td>clink glass</td>\n",
              "    </tr>\n",
              "  </tbody>\n",
              "</table>\n",
              "</div>"
            ],
            "text/plain": [
              "   search-id  step-id        time     video-id target-action\n",
              "0          0        0  849.623600  Ag-pXiLrd48   clink glass\n",
              "1          0        1  852.323675  Ag-pXiLrd48   clink glass\n",
              "2          0        2  855.023750  Ag-pXiLrd48   clink glass\n",
              "3          0        3  850.523625  Ag-pXiLrd48   clink glass\n",
              "4          0        4  853.223700  Ag-pXiLrd48   clink glass"
            ]
          },
          "metadata": {
            "tags": []
          },
          "execution_count": 9
        }
      ]
    },
    {
      "metadata": {
        "id": "A9g8gT01WGRv",
        "colab_type": "code",
        "outputId": "acf9d0ad-3514-4118-c09c-fd0d28fa774e",
        "colab": {
          "base_uri": "https://localhost:8080/",
          "height": 195
        }
      },
      "cell_type": "code",
      "source": [
        "df_asd_4 = df_asd[(df_asd['target-action'] == \"dance\")]\n",
        "df_asd_4.head(5)"
      ],
      "execution_count": 10,
      "outputs": [
        {
          "output_type": "execute_result",
          "data": {
            "text/html": [
              "<div>\n",
              "<style scoped>\n",
              "    .dataframe tbody tr th:only-of-type {\n",
              "        vertical-align: middle;\n",
              "    }\n",
              "\n",
              "    .dataframe tbody tr th {\n",
              "        vertical-align: top;\n",
              "    }\n",
              "\n",
              "    .dataframe thead th {\n",
              "        text-align: right;\n",
              "    }\n",
              "</style>\n",
              "<table border=\"1\" class=\"dataframe\">\n",
              "  <thead>\n",
              "    <tr style=\"text-align: right;\">\n",
              "      <th></th>\n",
              "      <th>search-id</th>\n",
              "      <th>step-id</th>\n",
              "      <th>time</th>\n",
              "      <th>video-id</th>\n",
              "      <th>target-action</th>\n",
              "    </tr>\n",
              "  </thead>\n",
              "  <tbody>\n",
              "    <tr>\n",
              "      <th>10594</th>\n",
              "      <td>27</td>\n",
              "      <td>0</td>\n",
              "      <td>58.500390</td>\n",
              "      <td>r2llOyS-BmE</td>\n",
              "      <td>dance</td>\n",
              "    </tr>\n",
              "    <tr>\n",
              "      <th>10595</th>\n",
              "      <td>27</td>\n",
              "      <td>1</td>\n",
              "      <td>56.700378</td>\n",
              "      <td>r2llOyS-BmE</td>\n",
              "      <td>dance</td>\n",
              "    </tr>\n",
              "    <tr>\n",
              "      <th>10596</th>\n",
              "      <td>27</td>\n",
              "      <td>2</td>\n",
              "      <td>51.300342</td>\n",
              "      <td>r2llOyS-BmE</td>\n",
              "      <td>dance</td>\n",
              "    </tr>\n",
              "    <tr>\n",
              "      <th>10597</th>\n",
              "      <td>27</td>\n",
              "      <td>3</td>\n",
              "      <td>45.000300</td>\n",
              "      <td>r2llOyS-BmE</td>\n",
              "      <td>dance</td>\n",
              "    </tr>\n",
              "    <tr>\n",
              "      <th>10598</th>\n",
              "      <td>27</td>\n",
              "      <td>4</td>\n",
              "      <td>31.500210</td>\n",
              "      <td>r2llOyS-BmE</td>\n",
              "      <td>dance</td>\n",
              "    </tr>\n",
              "  </tbody>\n",
              "</table>\n",
              "</div>"
            ],
            "text/plain": [
              "       search-id  step-id       time     video-id target-action\n",
              "10594         27        0  58.500390  r2llOyS-BmE         dance\n",
              "10595         27        1  56.700378  r2llOyS-BmE         dance\n",
              "10596         27        2  51.300342  r2llOyS-BmE         dance\n",
              "10597         27        3  45.000300  r2llOyS-BmE         dance\n",
              "10598         27        4  31.500210  r2llOyS-BmE         dance"
            ]
          },
          "metadata": {
            "tags": []
          },
          "execution_count": 10
        }
      ]
    },
    {
      "metadata": {
        "id": "dYehx2sGW55p",
        "colab_type": "code",
        "outputId": "cb32d70d-c7d1-4f8e-dc5f-7f11d4daa249",
        "colab": {
          "base_uri": "https://localhost:8080/",
          "height": 202
        }
      },
      "cell_type": "code",
      "source": [
        "videos_unique = df_asd_4['video-id'].unique()\n",
        "videos_unique"
      ],
      "execution_count": 11,
      "outputs": [
        {
          "output_type": "execute_result",
          "data": {
            "text/plain": [
              "array(['r2llOyS-BmE', 'HJzgJ9ZjvJk', '9F2voT6QWvQ', 'tghXjom3120',\n",
              "       '_mAfwH6i90E', 'XV_FF3WC7kA', 'AYebXQ8eUkM', 'J1jDc2rTJlg',\n",
              "       '5BDj0ow5hnA', 'T-Fc9ctuNVI', 'KWoSGtglCms', '#NAME?',\n",
              "       'VsYPP2I0aUQ', 'qx2vAO5ofmo', 'sUVhd0YTKgw', 'Ma2hgTmveKQ',\n",
              "       'F3dPH6Xqf5M', 'UIy730JrFIc', 'xO4ABy2iOQA', 'Db19rWN5BGo',\n",
              "       'uNT6HrrnqPU', 'Ov0za6Xb1LM', 'xmqSaQPzL1E', 'HymKCzQJbB8',\n",
              "       'hbYvDvJrpNk', 'o4xQ-BEa3Ss', 'N7baJsMszJ0', 'u1ltv6r14KQ',\n",
              "       'Kb1fduj-jdY', 'b5pRYl_djbs', 'CZ2NP8UsPuE', 'cKA-qeZuH_w',\n",
              "       'l-jxh8gpxuY', 'VMNmRlhFT-o', '5YPjcdLbs5g', 'fpprSy6AzKk',\n",
              "       'oq_bufAhyl8', 'plkJ45_-pMk', 'B1MAUxpKaV8', 'S0tkhGJjwLA',\n",
              "       '8aMv-ZGD4ic'], dtype=object)"
            ]
          },
          "metadata": {
            "tags": []
          },
          "execution_count": 11
        }
      ]
    },
    {
      "metadata": {
        "id": "HTiKHv8iXP3j",
        "colab_type": "code",
        "outputId": "593bf307-8545-4c80-a3b3-4dcd7e9f4aaa",
        "colab": {
          "base_uri": "https://localhost:8080/",
          "height": 504
        }
      },
      "cell_type": "code",
      "source": [
        "df_dummy = pd.read_csv(r\"drive/My Drive/ava/ava_working_train_ids.csv\", names = ['ids'], index_col = False)\n",
        "working_video_ids = df_dummy['ids'].unique()\n",
        "working_video_ids"
      ],
      "execution_count": 12,
      "outputs": [
        {
          "output_type": "execute_result",
          "data": {
            "text/plain": [
              "array(['55Ihr6uVIDA', 'HymKCzQJbB8', 'K_SpqDJnlps', '32HR3MnDZ8g',\n",
              "       'KVq6If6ozMY', 'AN07xQokfiE', 'y7ncweROe9U', 'N5UD8FGzDek',\n",
              "       'xp67EC-Hvwk', 'UgZFdrNT6W0', 'rFgb2ECMcrY', 'fNcxxBjEOgw',\n",
              "       '-FaXLcSFjUI', 'CZ2NP8UsPuE', 'sADELCyj10I', 'yMtGmGa8KZ0',\n",
              "       'O_NYCUhZ9zw', 'XV_FF3WC7kA', 'lWXhqIAvarw', 'oD_wxyTHJ2I',\n",
              "       'bhlFavrh7WU', 'BY3sZmvUp-0', 'qx2vAO5ofmo', 'Ekwy7wzLfjc',\n",
              "       'fD6VkIRlIRI', 'Ag-pXiLrd48', 'hHgg9WI8dTk', 't1LXrJOvPDg',\n",
              "       'Riu4ZKk4YdQ', '5BDj0ow5hnA', 'Ksd1JQFHYWA', 'skiZueh4lfY',\n",
              "       'T-Fc9ctuNVI', 'Ma2hgTmveKQ', 'uwW0ejeosmk', 'rUYsoIIE37A',\n",
              "       'AYebXQ8eUkM', 'Db19rWN5BGo', 'E7JcKooKVsM', '914yZXz-iRs',\n",
              "       'KWoSGtglCms', '9bK05eBt1GM', 'Kb1fduj-jdY', 'tt0t_a1EDCE',\n",
              "       'oq_bufAhyl8', '6d5u6FHvz7Q', '_a9SWtcaNj8', 'vfjywN5CN0Y',\n",
              "       'rk8Xm0EAOWs', 'l2XO3tQk8lI', 'uzPI7FcF79U', 'N1K2bEZLL_A',\n",
              "       'B1MAUxpKaV8', '9F2voT6QWvQ', '_mAfwH6i90E', 'fpprSy6AzKk',\n",
              "       'G5Yr20A5z_Q', 'l-jxh8gpxuY', 'gjdgj04FzR0', 'o4xQ-BEa3Ss',\n",
              "       'cWYJHb25EVs', '5YPjcdLbs5g', '7nHkh4sP5Ks', 'TzaVHtLXOzY',\n",
              "       'cKA-qeZuH_w', 'yo-Kg2YxlZs', 'CrlfWnsS7ac', 'xO4ABy2iOQA',\n",
              "       'sUVhd0YTKgw', 'J4bt4y9ShTA', 'J1jDc2rTJlg', 'b5pRYl_djbs',\n",
              "       'phVLLTMzmKk', 'VsYPP2I0aUQ', 'plkJ45_-pMk', 'tghXjom3120',\n",
              "       '9mLYmkonWZQ', 'N0Dt9i9IUNg', 'u1ltv6r14KQ', '4gVsDd8PV9U',\n",
              "       'Di1MG6auDYo', '20TAGRElvfE', 'WwoTG3_OjUg', 'tjqCzVjojCo',\n",
              "       '26V9UzqSguo', 'Hi8QeP_VPu0', 'phrYEKv0rmw', 'lDmLcWWBp1E',\n",
              "       'Gvp-cj3bmIY', 'QMwT7DFA5O4', 'P90hF2S1JzA', 'uPJPNPbWMFk',\n",
              "       'U_WzY2k8IBM', '2fwni_Kjf2M', 'WVde9pyaHg4', 'xmqSaQPzL1E',\n",
              "       '-IELREHX_js', 'U6m3kNFjdTs', 'PNZQ2UJfyQE', '9Y_l9NsnYE0',\n",
              "       'iSlDMboCSao', 'jgAwJ0RqmYg', 'tNpZtigMc4g', '2bxKkUgcqpk',\n",
              "       'F3dPH6Xqf5M', 'S0tkhGJjwLA', '0f39OWEqJ24', 'NEQ7Wpf-EtI',\n",
              "       'OfMdakd4bHI', '-5KQ66BBWC4', '8aMv-ZGD4ic', 'QCLQYnt3aMo',\n",
              "       'c9pEMjPT16M', '2PpxiG0WU18', 'x-6CtPWVi6E'], dtype=object)"
            ]
          },
          "metadata": {
            "tags": []
          },
          "execution_count": 12
        }
      ]
    },
    {
      "metadata": {
        "id": "0wpUYVc6X04w",
        "colab_type": "code",
        "outputId": "b544ad4e-70dd-424e-fc8e-97e05eaf3365",
        "colab": {
          "base_uri": "https://localhost:8080/",
          "height": 168
        }
      },
      "cell_type": "code",
      "source": [
        "df_asd_4_working_only = df_asd_4[(df_asd_4['video-id'].isin(working_video_ids))]\n",
        "videos_4 = df_asd_4_working_only['video-id'].unique()\n",
        "df = df_asd_4_working_only\n",
        "videos_4"
      ],
      "execution_count": 13,
      "outputs": [
        {
          "output_type": "execute_result",
          "data": {
            "text/plain": [
              "array(['9F2voT6QWvQ', 'tghXjom3120', '_mAfwH6i90E', 'XV_FF3WC7kA',\n",
              "       'AYebXQ8eUkM', 'J1jDc2rTJlg', '5BDj0ow5hnA', 'T-Fc9ctuNVI',\n",
              "       'KWoSGtglCms', 'VsYPP2I0aUQ', 'qx2vAO5ofmo', 'sUVhd0YTKgw',\n",
              "       'Ma2hgTmveKQ', 'F3dPH6Xqf5M', 'xO4ABy2iOQA', 'Db19rWN5BGo',\n",
              "       'xmqSaQPzL1E', 'HymKCzQJbB8', 'o4xQ-BEa3Ss', 'u1ltv6r14KQ',\n",
              "       'Kb1fduj-jdY', 'b5pRYl_djbs', 'CZ2NP8UsPuE', 'cKA-qeZuH_w',\n",
              "       'l-jxh8gpxuY', '5YPjcdLbs5g', 'fpprSy6AzKk', 'oq_bufAhyl8',\n",
              "       'plkJ45_-pMk', 'B1MAUxpKaV8', 'S0tkhGJjwLA', '8aMv-ZGD4ic'],\n",
              "      dtype=object)"
            ]
          },
          "metadata": {
            "tags": []
          },
          "execution_count": 13
        }
      ]
    },
    {
      "metadata": {
        "id": "cva17fOGcKQy",
        "colab_type": "code",
        "outputId": "b5427941-5a06-4a85-9659-527e7dfc143d",
        "colab": {
          "base_uri": "https://localhost:8080/",
          "height": 739
        }
      },
      "cell_type": "code",
      "source": [
        "unique_sequences = df['search-id'].unique()\n",
        "unique_sequences"
      ],
      "execution_count": 14,
      "outputs": [
        {
          "output_type": "execute_result",
          "data": {
            "text/plain": [
              "array([  40,   41,   42,   43,   44,   45,   46,   47,   48,   50,   52,\n",
              "         53,   54,   56,   57,   58,   59,   60,   61,   62,   63,   66,\n",
              "         67,   70,   71,   73,   75,   77,   78,   79,   80,   81,   84,\n",
              "         88,   92,   93,   97,  100,  101,  102,  103,  104,  105,  106,\n",
              "        109,  112,  114,  115,  116,  119,  120,  121,  123,  124,  126,\n",
              "        127,  128,  131,  133,  134,  136,  137,  139,  140,  141,  142,\n",
              "        143,  144,  145,  146,  147,  149,  151,  152,  154,  155,  156,\n",
              "        157,  159,  161,  162,  163,  164,  166,  167,  168,  169,  170,\n",
              "        171,  172,  174,  176,  177,  178,  179,  180,  183,  184,  186,\n",
              "        187,  188,  190,  192,  193,  195,  196,  197,  200,  202,  203,\n",
              "        204,  207,  208,  210,  211,  212,  214,  215,  216,  219,  220,\n",
              "        222,  223,  224,  230,  232,  233,  234,  236,  240,  241,  244,\n",
              "        245,  246,  248,  249,  251,  254,  255,  256,  258,  260,  261,\n",
              "        262,  265,  266,  267,  268,  272,  273,  275,  276,  277,  279,\n",
              "        280,  281,  282,  283,  284,  285,  286,  289,  290,  291,  292,\n",
              "        293,  294,  295,  296,  297,  298,  301,  304,  305,  306,  307,\n",
              "        309,  310,  312,  314,  315,  317,  318,  319,  320,  321,  322,\n",
              "        323,  324,  325,  326,  327,  328,  329,  330,  331,  332,  333,\n",
              "        334,  337,  340,  343,  344,  345,  347,  350,  353,  355,  357,\n",
              "        358,  360,  362,  365,  366,  368,  369,  371,  373,  374,  375,\n",
              "        376,  378,  381,  382,  383,  384,  385,  386,  387,  389,  390,\n",
              "        394,  395,  399,  402,  406,  407,  408,  409,  412,  413,  415,\n",
              "        418,  419,  420,  422,  423,  424,  425,  427,  428,  431,  432,\n",
              "        435,  437,  438,  439,  441,  443,  445,  446,  452,  456,  457,\n",
              "        458,  459,  460,  461,  462,  464,  466,  467,  469,  470,  471,\n",
              "        472,  476,  477,  478,  479,  480,  482,  483,  484,  486,  487,\n",
              "        489,  494, 1015, 1174, 1190, 1199, 1230, 1231, 1244, 1249, 1257,\n",
              "       1288, 1325, 1340, 1385, 1545, 1553, 1587, 1608, 1614, 1640, 1656,\n",
              "       1659, 1678, 1694, 1713, 1721, 1734, 1760, 1768, 1773, 1785, 1793,\n",
              "       1809, 1832, 1836, 1877, 1879, 1998, 2218, 2221, 2232, 2263, 2292,\n",
              "       2318, 2320, 2322, 2325, 2329, 2332, 2334, 2335, 2366, 2371, 2375,\n",
              "       2381, 2385, 2522, 2526, 2532, 2533, 2535, 2540, 2541, 2545, 2546,\n",
              "       2551, 2552, 2554, 2555, 2557, 2559, 2562, 2569, 2572, 2578, 2582,\n",
              "       2589, 2590, 2601, 2612, 2622, 2623, 2624, 2625, 2628, 2634, 2638,\n",
              "       2644, 2649, 2650, 2658, 2659, 2664, 2669, 2671, 2673, 2674, 2683,\n",
              "       2686, 2748, 3074, 3236, 3289, 3290, 3291, 3292, 3293, 3294, 3295,\n",
              "       3296, 3297, 3299, 3300, 3301, 3302, 3303, 3304, 3305, 3306, 3307,\n",
              "       3308, 3309, 3310, 3311, 3312, 3313, 3314, 3315, 3316, 3317, 3318,\n",
              "       3319, 3320, 3321, 3322, 3323, 3324, 3325, 3326, 3327, 3328, 3329,\n",
              "       3330, 3332, 3333, 3334, 3336, 3337, 3338, 3339, 3340, 3341, 3342,\n",
              "       3344, 3345, 3346, 3347, 3348, 3349, 3350, 3351, 3352, 3353, 3354,\n",
              "       3355, 3356, 3375, 3410, 3577, 3585, 3588, 3592, 3621, 3623, 3625,\n",
              "       3629, 3634, 3753, 3799, 3805, 3812, 3826, 3838, 3848, 3849, 3891])"
            ]
          },
          "metadata": {
            "tags": []
          },
          "execution_count": 14
        }
      ]
    },
    {
      "metadata": {
        "id": "ptck1G31co_t",
        "colab_type": "code",
        "outputId": "22e578ff-7a21-4926-f594-81796487d7f3",
        "colab": {
          "base_uri": "https://localhost:8080/",
          "height": 554
        }
      },
      "cell_type": "code",
      "source": [
        "input_l = []\n",
        "output_l = []\n",
        "\n",
        "video_dict = {}\n",
        "\n",
        "for video in df['video-id'].unique() :\n",
        "  print(video)\n",
        "  video_dict[video] = []\n",
        "  df_curr = df[(df['video-id'] == video)]\n",
        "  seqs = df_curr['search-id'].unique()\n",
        "\n",
        "  for seq in seqs :\n",
        "    X = []\n",
        "    y = []\n",
        "#     print(seq)\n",
        "    timestamps = df_curr[(df_curr['search-id'] == seq)]['time'].as_matrix()\n",
        "    len_t = len(timestamps)\n",
        "    for i in range(1, len_t, 1) :\n",
        "      X.append(timestamps[i-1])\n",
        "      y.append(timestamps[i] - timestamps[i-1] / 10)\n",
        "  \n",
        "    video_dict[video].append([X, y])\n"
      ],
      "execution_count": 18,
      "outputs": [
        {
          "output_type": "stream",
          "text": [
            "9F2voT6QWvQ\n",
            "tghXjom3120\n",
            "_mAfwH6i90E\n",
            "XV_FF3WC7kA\n",
            "AYebXQ8eUkM\n",
            "J1jDc2rTJlg\n",
            "5BDj0ow5hnA\n",
            "T-Fc9ctuNVI\n",
            "KWoSGtglCms\n",
            "VsYPP2I0aUQ\n",
            "qx2vAO5ofmo\n",
            "sUVhd0YTKgw\n",
            "Ma2hgTmveKQ\n",
            "F3dPH6Xqf5M\n",
            "xO4ABy2iOQA\n",
            "Db19rWN5BGo\n",
            "xmqSaQPzL1E\n",
            "HymKCzQJbB8\n",
            "o4xQ-BEa3Ss\n",
            "u1ltv6r14KQ\n",
            "Kb1fduj-jdY\n",
            "b5pRYl_djbs\n",
            "CZ2NP8UsPuE\n",
            "cKA-qeZuH_w\n",
            "l-jxh8gpxuY\n",
            "5YPjcdLbs5g\n",
            "fpprSy6AzKk\n",
            "oq_bufAhyl8\n",
            "plkJ45_-pMk\n",
            "B1MAUxpKaV8\n",
            "S0tkhGJjwLA\n",
            "8aMv-ZGD4ic\n"
          ],
          "name": "stdout"
        }
      ]
    },
    {
      "metadata": {
        "id": "3Qk4G7y9wirN",
        "colab_type": "code",
        "outputId": "548adcd0-8bcb-4b21-8584-26385bcc8d71",
        "colab": {
          "base_uri": "https://localhost:8080/",
          "height": 2990
        }
      },
      "cell_type": "code",
      "source": [
        "import torchvision.models as models\n",
        "resnet50 = models.resnet50(pretrained=True)\n",
        "resnet50.avgpool = torch.nn.AdaptiveAvgPool2d(1)\n",
        "visual_encoder = nn.Sequential(*list(resnet50.children())[:-1])\n",
        "visual_encoder.cuda()\n",
        "visual_encoder.eval()"
      ],
      "execution_count": 16,
      "outputs": [
        {
          "output_type": "stream",
          "text": [
            "Downloading: \"https://download.pytorch.org/models/resnet50-19c8e357.pth\" to /root/.torch/models/resnet50-19c8e357.pth\n",
            "100%|██████████| 102502400/102502400 [00:02<00:00, 50727836.49it/s]\n"
          ],
          "name": "stderr"
        },
        {
          "output_type": "execute_result",
          "data": {
            "text/plain": [
              "Sequential(\n",
              "  (0): Conv2d(3, 64, kernel_size=(7, 7), stride=(2, 2), padding=(3, 3), bias=False)\n",
              "  (1): BatchNorm2d(64, eps=1e-05, momentum=0.1, affine=True, track_running_stats=True)\n",
              "  (2): ReLU(inplace)\n",
              "  (3): MaxPool2d(kernel_size=3, stride=2, padding=1, dilation=1, ceil_mode=False)\n",
              "  (4): Sequential(\n",
              "    (0): Bottleneck(\n",
              "      (conv1): Conv2d(64, 64, kernel_size=(1, 1), stride=(1, 1), bias=False)\n",
              "      (bn1): BatchNorm2d(64, eps=1e-05, momentum=0.1, affine=True, track_running_stats=True)\n",
              "      (conv2): Conv2d(64, 64, kernel_size=(3, 3), stride=(1, 1), padding=(1, 1), bias=False)\n",
              "      (bn2): BatchNorm2d(64, eps=1e-05, momentum=0.1, affine=True, track_running_stats=True)\n",
              "      (conv3): Conv2d(64, 256, kernel_size=(1, 1), stride=(1, 1), bias=False)\n",
              "      (bn3): BatchNorm2d(256, eps=1e-05, momentum=0.1, affine=True, track_running_stats=True)\n",
              "      (relu): ReLU(inplace)\n",
              "      (downsample): Sequential(\n",
              "        (0): Conv2d(64, 256, kernel_size=(1, 1), stride=(1, 1), bias=False)\n",
              "        (1): BatchNorm2d(256, eps=1e-05, momentum=0.1, affine=True, track_running_stats=True)\n",
              "      )\n",
              "    )\n",
              "    (1): Bottleneck(\n",
              "      (conv1): Conv2d(256, 64, kernel_size=(1, 1), stride=(1, 1), bias=False)\n",
              "      (bn1): BatchNorm2d(64, eps=1e-05, momentum=0.1, affine=True, track_running_stats=True)\n",
              "      (conv2): Conv2d(64, 64, kernel_size=(3, 3), stride=(1, 1), padding=(1, 1), bias=False)\n",
              "      (bn2): BatchNorm2d(64, eps=1e-05, momentum=0.1, affine=True, track_running_stats=True)\n",
              "      (conv3): Conv2d(64, 256, kernel_size=(1, 1), stride=(1, 1), bias=False)\n",
              "      (bn3): BatchNorm2d(256, eps=1e-05, momentum=0.1, affine=True, track_running_stats=True)\n",
              "      (relu): ReLU(inplace)\n",
              "    )\n",
              "    (2): Bottleneck(\n",
              "      (conv1): Conv2d(256, 64, kernel_size=(1, 1), stride=(1, 1), bias=False)\n",
              "      (bn1): BatchNorm2d(64, eps=1e-05, momentum=0.1, affine=True, track_running_stats=True)\n",
              "      (conv2): Conv2d(64, 64, kernel_size=(3, 3), stride=(1, 1), padding=(1, 1), bias=False)\n",
              "      (bn2): BatchNorm2d(64, eps=1e-05, momentum=0.1, affine=True, track_running_stats=True)\n",
              "      (conv3): Conv2d(64, 256, kernel_size=(1, 1), stride=(1, 1), bias=False)\n",
              "      (bn3): BatchNorm2d(256, eps=1e-05, momentum=0.1, affine=True, track_running_stats=True)\n",
              "      (relu): ReLU(inplace)\n",
              "    )\n",
              "  )\n",
              "  (5): Sequential(\n",
              "    (0): Bottleneck(\n",
              "      (conv1): Conv2d(256, 128, kernel_size=(1, 1), stride=(1, 1), bias=False)\n",
              "      (bn1): BatchNorm2d(128, eps=1e-05, momentum=0.1, affine=True, track_running_stats=True)\n",
              "      (conv2): Conv2d(128, 128, kernel_size=(3, 3), stride=(2, 2), padding=(1, 1), bias=False)\n",
              "      (bn2): BatchNorm2d(128, eps=1e-05, momentum=0.1, affine=True, track_running_stats=True)\n",
              "      (conv3): Conv2d(128, 512, kernel_size=(1, 1), stride=(1, 1), bias=False)\n",
              "      (bn3): BatchNorm2d(512, eps=1e-05, momentum=0.1, affine=True, track_running_stats=True)\n",
              "      (relu): ReLU(inplace)\n",
              "      (downsample): Sequential(\n",
              "        (0): Conv2d(256, 512, kernel_size=(1, 1), stride=(2, 2), bias=False)\n",
              "        (1): BatchNorm2d(512, eps=1e-05, momentum=0.1, affine=True, track_running_stats=True)\n",
              "      )\n",
              "    )\n",
              "    (1): Bottleneck(\n",
              "      (conv1): Conv2d(512, 128, kernel_size=(1, 1), stride=(1, 1), bias=False)\n",
              "      (bn1): BatchNorm2d(128, eps=1e-05, momentum=0.1, affine=True, track_running_stats=True)\n",
              "      (conv2): Conv2d(128, 128, kernel_size=(3, 3), stride=(1, 1), padding=(1, 1), bias=False)\n",
              "      (bn2): BatchNorm2d(128, eps=1e-05, momentum=0.1, affine=True, track_running_stats=True)\n",
              "      (conv3): Conv2d(128, 512, kernel_size=(1, 1), stride=(1, 1), bias=False)\n",
              "      (bn3): BatchNorm2d(512, eps=1e-05, momentum=0.1, affine=True, track_running_stats=True)\n",
              "      (relu): ReLU(inplace)\n",
              "    )\n",
              "    (2): Bottleneck(\n",
              "      (conv1): Conv2d(512, 128, kernel_size=(1, 1), stride=(1, 1), bias=False)\n",
              "      (bn1): BatchNorm2d(128, eps=1e-05, momentum=0.1, affine=True, track_running_stats=True)\n",
              "      (conv2): Conv2d(128, 128, kernel_size=(3, 3), stride=(1, 1), padding=(1, 1), bias=False)\n",
              "      (bn2): BatchNorm2d(128, eps=1e-05, momentum=0.1, affine=True, track_running_stats=True)\n",
              "      (conv3): Conv2d(128, 512, kernel_size=(1, 1), stride=(1, 1), bias=False)\n",
              "      (bn3): BatchNorm2d(512, eps=1e-05, momentum=0.1, affine=True, track_running_stats=True)\n",
              "      (relu): ReLU(inplace)\n",
              "    )\n",
              "    (3): Bottleneck(\n",
              "      (conv1): Conv2d(512, 128, kernel_size=(1, 1), stride=(1, 1), bias=False)\n",
              "      (bn1): BatchNorm2d(128, eps=1e-05, momentum=0.1, affine=True, track_running_stats=True)\n",
              "      (conv2): Conv2d(128, 128, kernel_size=(3, 3), stride=(1, 1), padding=(1, 1), bias=False)\n",
              "      (bn2): BatchNorm2d(128, eps=1e-05, momentum=0.1, affine=True, track_running_stats=True)\n",
              "      (conv3): Conv2d(128, 512, kernel_size=(1, 1), stride=(1, 1), bias=False)\n",
              "      (bn3): BatchNorm2d(512, eps=1e-05, momentum=0.1, affine=True, track_running_stats=True)\n",
              "      (relu): ReLU(inplace)\n",
              "    )\n",
              "  )\n",
              "  (6): Sequential(\n",
              "    (0): Bottleneck(\n",
              "      (conv1): Conv2d(512, 256, kernel_size=(1, 1), stride=(1, 1), bias=False)\n",
              "      (bn1): BatchNorm2d(256, eps=1e-05, momentum=0.1, affine=True, track_running_stats=True)\n",
              "      (conv2): Conv2d(256, 256, kernel_size=(3, 3), stride=(2, 2), padding=(1, 1), bias=False)\n",
              "      (bn2): BatchNorm2d(256, eps=1e-05, momentum=0.1, affine=True, track_running_stats=True)\n",
              "      (conv3): Conv2d(256, 1024, kernel_size=(1, 1), stride=(1, 1), bias=False)\n",
              "      (bn3): BatchNorm2d(1024, eps=1e-05, momentum=0.1, affine=True, track_running_stats=True)\n",
              "      (relu): ReLU(inplace)\n",
              "      (downsample): Sequential(\n",
              "        (0): Conv2d(512, 1024, kernel_size=(1, 1), stride=(2, 2), bias=False)\n",
              "        (1): BatchNorm2d(1024, eps=1e-05, momentum=0.1, affine=True, track_running_stats=True)\n",
              "      )\n",
              "    )\n",
              "    (1): Bottleneck(\n",
              "      (conv1): Conv2d(1024, 256, kernel_size=(1, 1), stride=(1, 1), bias=False)\n",
              "      (bn1): BatchNorm2d(256, eps=1e-05, momentum=0.1, affine=True, track_running_stats=True)\n",
              "      (conv2): Conv2d(256, 256, kernel_size=(3, 3), stride=(1, 1), padding=(1, 1), bias=False)\n",
              "      (bn2): BatchNorm2d(256, eps=1e-05, momentum=0.1, affine=True, track_running_stats=True)\n",
              "      (conv3): Conv2d(256, 1024, kernel_size=(1, 1), stride=(1, 1), bias=False)\n",
              "      (bn3): BatchNorm2d(1024, eps=1e-05, momentum=0.1, affine=True, track_running_stats=True)\n",
              "      (relu): ReLU(inplace)\n",
              "    )\n",
              "    (2): Bottleneck(\n",
              "      (conv1): Conv2d(1024, 256, kernel_size=(1, 1), stride=(1, 1), bias=False)\n",
              "      (bn1): BatchNorm2d(256, eps=1e-05, momentum=0.1, affine=True, track_running_stats=True)\n",
              "      (conv2): Conv2d(256, 256, kernel_size=(3, 3), stride=(1, 1), padding=(1, 1), bias=False)\n",
              "      (bn2): BatchNorm2d(256, eps=1e-05, momentum=0.1, affine=True, track_running_stats=True)\n",
              "      (conv3): Conv2d(256, 1024, kernel_size=(1, 1), stride=(1, 1), bias=False)\n",
              "      (bn3): BatchNorm2d(1024, eps=1e-05, momentum=0.1, affine=True, track_running_stats=True)\n",
              "      (relu): ReLU(inplace)\n",
              "    )\n",
              "    (3): Bottleneck(\n",
              "      (conv1): Conv2d(1024, 256, kernel_size=(1, 1), stride=(1, 1), bias=False)\n",
              "      (bn1): BatchNorm2d(256, eps=1e-05, momentum=0.1, affine=True, track_running_stats=True)\n",
              "      (conv2): Conv2d(256, 256, kernel_size=(3, 3), stride=(1, 1), padding=(1, 1), bias=False)\n",
              "      (bn2): BatchNorm2d(256, eps=1e-05, momentum=0.1, affine=True, track_running_stats=True)\n",
              "      (conv3): Conv2d(256, 1024, kernel_size=(1, 1), stride=(1, 1), bias=False)\n",
              "      (bn3): BatchNorm2d(1024, eps=1e-05, momentum=0.1, affine=True, track_running_stats=True)\n",
              "      (relu): ReLU(inplace)\n",
              "    )\n",
              "    (4): Bottleneck(\n",
              "      (conv1): Conv2d(1024, 256, kernel_size=(1, 1), stride=(1, 1), bias=False)\n",
              "      (bn1): BatchNorm2d(256, eps=1e-05, momentum=0.1, affine=True, track_running_stats=True)\n",
              "      (conv2): Conv2d(256, 256, kernel_size=(3, 3), stride=(1, 1), padding=(1, 1), bias=False)\n",
              "      (bn2): BatchNorm2d(256, eps=1e-05, momentum=0.1, affine=True, track_running_stats=True)\n",
              "      (conv3): Conv2d(256, 1024, kernel_size=(1, 1), stride=(1, 1), bias=False)\n",
              "      (bn3): BatchNorm2d(1024, eps=1e-05, momentum=0.1, affine=True, track_running_stats=True)\n",
              "      (relu): ReLU(inplace)\n",
              "    )\n",
              "    (5): Bottleneck(\n",
              "      (conv1): Conv2d(1024, 256, kernel_size=(1, 1), stride=(1, 1), bias=False)\n",
              "      (bn1): BatchNorm2d(256, eps=1e-05, momentum=0.1, affine=True, track_running_stats=True)\n",
              "      (conv2): Conv2d(256, 256, kernel_size=(3, 3), stride=(1, 1), padding=(1, 1), bias=False)\n",
              "      (bn2): BatchNorm2d(256, eps=1e-05, momentum=0.1, affine=True, track_running_stats=True)\n",
              "      (conv3): Conv2d(256, 1024, kernel_size=(1, 1), stride=(1, 1), bias=False)\n",
              "      (bn3): BatchNorm2d(1024, eps=1e-05, momentum=0.1, affine=True, track_running_stats=True)\n",
              "      (relu): ReLU(inplace)\n",
              "    )\n",
              "  )\n",
              "  (7): Sequential(\n",
              "    (0): Bottleneck(\n",
              "      (conv1): Conv2d(1024, 512, kernel_size=(1, 1), stride=(1, 1), bias=False)\n",
              "      (bn1): BatchNorm2d(512, eps=1e-05, momentum=0.1, affine=True, track_running_stats=True)\n",
              "      (conv2): Conv2d(512, 512, kernel_size=(3, 3), stride=(2, 2), padding=(1, 1), bias=False)\n",
              "      (bn2): BatchNorm2d(512, eps=1e-05, momentum=0.1, affine=True, track_running_stats=True)\n",
              "      (conv3): Conv2d(512, 2048, kernel_size=(1, 1), stride=(1, 1), bias=False)\n",
              "      (bn3): BatchNorm2d(2048, eps=1e-05, momentum=0.1, affine=True, track_running_stats=True)\n",
              "      (relu): ReLU(inplace)\n",
              "      (downsample): Sequential(\n",
              "        (0): Conv2d(1024, 2048, kernel_size=(1, 1), stride=(2, 2), bias=False)\n",
              "        (1): BatchNorm2d(2048, eps=1e-05, momentum=0.1, affine=True, track_running_stats=True)\n",
              "      )\n",
              "    )\n",
              "    (1): Bottleneck(\n",
              "      (conv1): Conv2d(2048, 512, kernel_size=(1, 1), stride=(1, 1), bias=False)\n",
              "      (bn1): BatchNorm2d(512, eps=1e-05, momentum=0.1, affine=True, track_running_stats=True)\n",
              "      (conv2): Conv2d(512, 512, kernel_size=(3, 3), stride=(1, 1), padding=(1, 1), bias=False)\n",
              "      (bn2): BatchNorm2d(512, eps=1e-05, momentum=0.1, affine=True, track_running_stats=True)\n",
              "      (conv3): Conv2d(512, 2048, kernel_size=(1, 1), stride=(1, 1), bias=False)\n",
              "      (bn3): BatchNorm2d(2048, eps=1e-05, momentum=0.1, affine=True, track_running_stats=True)\n",
              "      (relu): ReLU(inplace)\n",
              "    )\n",
              "    (2): Bottleneck(\n",
              "      (conv1): Conv2d(2048, 512, kernel_size=(1, 1), stride=(1, 1), bias=False)\n",
              "      (bn1): BatchNorm2d(512, eps=1e-05, momentum=0.1, affine=True, track_running_stats=True)\n",
              "      (conv2): Conv2d(512, 512, kernel_size=(3, 3), stride=(1, 1), padding=(1, 1), bias=False)\n",
              "      (bn2): BatchNorm2d(512, eps=1e-05, momentum=0.1, affine=True, track_running_stats=True)\n",
              "      (conv3): Conv2d(512, 2048, kernel_size=(1, 1), stride=(1, 1), bias=False)\n",
              "      (bn3): BatchNorm2d(2048, eps=1e-05, momentum=0.1, affine=True, track_running_stats=True)\n",
              "      (relu): ReLU(inplace)\n",
              "    )\n",
              "  )\n",
              "  (8): AdaptiveAvgPool2d(output_size=1)\n",
              ")"
            ]
          },
          "metadata": {
            "tags": []
          },
          "execution_count": 16
        }
      ]
    },
    {
      "metadata": {
        "id": "oF_MqBapxDr-",
        "colab_type": "code",
        "colab": {}
      },
      "cell_type": "code",
      "source": [
        "MIN = 904 \n",
        "MAX = 1798"
      ],
      "execution_count": 0,
      "outputs": []
    },
    {
      "metadata": {
        "id": "75JXQ-QhjhTL",
        "colab_type": "code",
        "outputId": "88c2ed06-f5e5-488c-a3b8-b242ded41206",
        "colab": {
          "base_uri": "https://localhost:8080/",
          "height": 817
        }
      },
      "cell_type": "code",
      "source": [
        "\n",
        "import cv2\n",
        "\n",
        "lstm = nn.LSTM(256, 1000, num_layers = 1)\n",
        "linear = nn.Linear(1000, 1)\n",
        "hidden = (torch.randn(1, 1, 1000).cuda(),\n",
        "          torch.randn(1, 1, 1000).cuda())\n",
        "\n",
        "lstm_model = nn.Sequential(lstm, linear)\n",
        "lstm_model.cuda()\n",
        "lstm_model.train()\n",
        "criterion = torch.nn.SmoothL1Loss().type(torch.cuda.FloatTensor)\n",
        "\n",
        "optimizer = torch.optim.Adam(lstm_model.parameters(), lr=1e-3)\n",
        "\n",
        "for video in list(*[video_dict]) :\n",
        "  print(video)\n",
        "  cap = cv2.VideoCapture(\"drive/My Drive/ava/videos/\" + str(video) + \".mp4\")\n",
        "  sequences = video_dict[video]\n",
        "  for ttt, seq in enumerate(sequences) :\n",
        "    print('New seq')\n",
        "    [X, y] = seq\n",
        "#     previous = X[i]\n",
        "    sc = 0\n",
        "    for x_i,y_i in zip(X,y) :\n",
        "      sc = sc + 1\n",
        "      lstm_model.zero_grad()\n",
        " \n",
        "      cap.set(cv2.CAP_PROP_POS_MSEC, (904 + x_i) * 1000)\n",
        "      ret, frame = cap.read()\n",
        "#       frame = train_transforms(frame)\n",
        "#       cv2.imshow(\"frame\", frame)\n",
        "      img = np.rollaxis(frame, 2, 0)   \n",
        "#       cv2.imshow(\"frame\", cv2.cvtColor(frame, cv2.COLOR_BGR2GRAY))\n",
        "#       cv2.waitKey()\n",
        "      \n",
        "      t = torch.from_numpy(img)\n",
        "      x_var = Variable(t.unsqueeze(0).float().cuda())\n",
        "#       print(x_var.shape)\n",
        "      \n",
        "      output = visual_encoder(x_var).data.cpu().numpy() \n",
        "#       print(output.shape)\n",
        "      op = output.reshape(-1, 16)\n",
        "#       print(op.shape)\n",
        "\n",
        "      mean, eigvec = cv2.PCACompute(op, mean=None, maxComponents = 64)\n",
        "#       print(eigvec.shape)\n",
        "\n",
        "      op = eigvec.reshape(1, 1, -1)\n",
        "      t2 = torch.from_numpy(op)\n",
        "      x_var2 = Variable(t2.float().cuda())\n",
        "\n",
        "#       print(x_i)\n",
        "      out_lstm, hidden = lstm_model[0](x_var2, hidden)\n",
        "      preds = lstm_model[1](out_lstm)\n",
        "#       print(out_lstm.shape)\n",
        "    \n",
        "      loss = criterion(y_i, preds)\n",
        "      if (ttt % 1000 == 0) :\n",
        "        print(\"true : %f , pred : %f  loss : %f\" % (y_i, preds, loss))\n",
        "#       print(\"loss : %f\" % loss)\n",
        "\n",
        "      optimizer.zero_grad()\n",
        "      loss.backward(retain_graph=True)\n",
        "      optimizer.step()\n",
        "      if (sc > 250) :\n",
        "        print('break')\n",
        "        break\n",
        "      \n",
        "    out_lstm.detach_()\n",
        "    hidden = (torch.randn(1, 1, 1000).cuda(), torch.randn(1, 1, 1000).cuda())\n",
        "\n",
        "      \n",
        "#       y_i\n",
        "        \n",
        "      "
      ],
      "execution_count": 19,
      "outputs": [
        {
          "output_type": "stream",
          "text": [
            "9F2voT6QWvQ\n",
            "New seq\n",
            "true : 137.523686 , pred : -0.099404  loss : 137.123093\n",
            "true : 135.003619 , pred : 0.176734  loss : 134.326889\n",
            "true : 133.473578 , pred : 0.603737  loss : 132.369843\n",
            "true : 130.953510 , pred : 0.969137  loss : 129.484375\n",
            "true : 126.723397 , pred : 1.243384  loss : 124.980011\n",
            "true : 124.473337 , pred : 1.496334  loss : 122.476997\n",
            "true : 119.343199 , pred : 2.105187  loss : 116.738014\n",
            "true : 114.483069 , pred : 2.652223  loss : 111.330849\n",
            "true : 109.622938 , pred : 3.911983  loss : 105.210960\n",
            "true : 103.862784 , pred : 5.399991  loss : 97.962791\n",
            "true : 98.192632 , pred : 6.729557  loss : 90.963081\n",
            "true : 91.622456 , pred : 7.661596  loss : 83.460861\n",
            "true : 83.342234 , pred : 7.964629  loss : 74.877602\n",
            "true : 77.042065 , pred : 8.079584  loss : 68.462486\n",
            "true : 71.461916 , pred : 8.371592  loss : 62.590324\n",
            "true : 65.791764 , pred : 8.863970  loss : 56.427795\n",
            "true : 59.221587 , pred : 9.569733  loss : 49.151855\n",
            "true : 54.541462 , pred : 10.370321  loss : 43.671143\n",
            "true : 48.781308 , pred : 11.209539  loss : 37.071770\n",
            "true : 45.811228 , pred : 12.025072  loss : 33.286156\n",
            "true : 43.471165 , pred : 12.757098  loss : 30.214066\n",
            "true : 41.941124 , pred : 13.423514  loss : 28.017609\n",
            "true : 41.221105 , pred : 13.969737  loss : 26.751366\n",
            "true : 39.511059 , pred : 14.437538  loss : 24.573521\n",
            "true : 38.791040 , pred : 14.844973  loss : 23.446066\n",
            "true : 37.080994 , pred : 15.229424  loss : 21.351570\n",
            "true : 36.360975 , pred : 15.715165  loss : 20.145809\n",
            "true : 33.750905 , pred : 16.238224  loss : 17.012680\n",
            "true : 32.220864 , pred : 16.751396  loss : 14.969467\n",
            "true : 29.700796 , pred : 17.255560  loss : 11.945236\n",
            "true : 29.070779 , pred : 17.783493  loss : 10.787287\n",
            "true : 27.360733 , pred : 18.423580  loss : 8.437153\n",
            "true : 26.640714 , pred : 19.115080  loss : 7.025635\n"
          ],
          "name": "stdout"
        },
        {
          "output_type": "error",
          "ename": "KeyboardInterrupt",
          "evalue": "ignored",
          "traceback": [
            "\u001b[0;31m---------------------------------------------------------------------------\u001b[0m",
            "\u001b[0;31mKeyboardInterrupt\u001b[0m                         Traceback (most recent call last)",
            "\u001b[0;32m<ipython-input-19-196cf30be601>\u001b[0m in \u001b[0;36m<module>\u001b[0;34m()\u001b[0m\n\u001b[1;32m     39\u001b[0m \u001b[0;31m#       print(x_var.shape)\u001b[0m\u001b[0;34m\u001b[0m\u001b[0;34m\u001b[0m\u001b[0;34m\u001b[0m\u001b[0m\n\u001b[1;32m     40\u001b[0m \u001b[0;34m\u001b[0m\u001b[0m\n\u001b[0;32m---> 41\u001b[0;31m       \u001b[0moutput\u001b[0m \u001b[0;34m=\u001b[0m \u001b[0mvisual_encoder\u001b[0m\u001b[0;34m(\u001b[0m\u001b[0mx_var\u001b[0m\u001b[0;34m)\u001b[0m\u001b[0;34m.\u001b[0m\u001b[0mdata\u001b[0m\u001b[0;34m.\u001b[0m\u001b[0mcpu\u001b[0m\u001b[0;34m(\u001b[0m\u001b[0;34m)\u001b[0m\u001b[0;34m.\u001b[0m\u001b[0mnumpy\u001b[0m\u001b[0;34m(\u001b[0m\u001b[0;34m)\u001b[0m\u001b[0;34m\u001b[0m\u001b[0;34m\u001b[0m\u001b[0m\n\u001b[0m\u001b[1;32m     42\u001b[0m \u001b[0;31m#       print(output.shape)\u001b[0m\u001b[0;34m\u001b[0m\u001b[0;34m\u001b[0m\u001b[0;34m\u001b[0m\u001b[0m\n\u001b[1;32m     43\u001b[0m       \u001b[0mop\u001b[0m \u001b[0;34m=\u001b[0m \u001b[0moutput\u001b[0m\u001b[0;34m.\u001b[0m\u001b[0mreshape\u001b[0m\u001b[0;34m(\u001b[0m\u001b[0;34m-\u001b[0m\u001b[0;36m1\u001b[0m\u001b[0;34m,\u001b[0m \u001b[0;36m16\u001b[0m\u001b[0;34m)\u001b[0m\u001b[0;34m\u001b[0m\u001b[0;34m\u001b[0m\u001b[0m\n",
            "\u001b[0;31mKeyboardInterrupt\u001b[0m: "
          ]
        }
      ]
    },
    {
      "metadata": {
        "id": "U3H3BuffwJxn",
        "colab_type": "code",
        "outputId": "71a46922-6a27-407b-be35-a226c5965e04",
        "colab": {
          "base_uri": "https://localhost:8080/",
          "height": 84
        }
      },
      "cell_type": "code",
      "source": [
        "lstm_model\n"
      ],
      "execution_count": 20,
      "outputs": [
        {
          "output_type": "execute_result",
          "data": {
            "text/plain": [
              "Sequential(\n",
              "  (0): LSTM(256, 1000)\n",
              "  (1): Linear(in_features=1000, out_features=1, bias=True)\n",
              ")"
            ]
          },
          "metadata": {
            "tags": []
          },
          "execution_count": 20
        }
      ]
    },
    {
      "metadata": {
        "id": "HuE2krGp_1go",
        "colab_type": "code",
        "colab": {}
      },
      "cell_type": "code",
      "source": [
        "torch.save(lstm_model, 'drive/My Drive/lstm_model_f.h5')"
      ],
      "execution_count": 0,
      "outputs": []
    },
    {
      "metadata": {
        "id": "YkuGxvX7S2Mb",
        "colab_type": "code",
        "outputId": "2b4f34ba-a4e4-4f88-ceb7-a8aafb15d4d3",
        "colab": {
          "base_uri": "https://localhost:8080/",
          "height": 240
        }
      },
      "cell_type": "code",
      "source": [
        "cap = cv2.VideoCapture(\"drive/My Drive/ava/videos/9F2voT6QWvQ.mp4\")\n",
        "cap.set(cv2.CAP_PROP_POS_MSEC, (904 + 144.9038841) * 1000)\n",
        "ret, frame = cap.read()\n",
        "\n",
        "\n",
        "%matplotlib inline\n",
        "from matplotlib import pyplot as plt\n",
        "plt.imshow(frame)\n",
        "plt.show()"
      ],
      "execution_count": 0,
      "outputs": [
        {
          "output_type": "display_data",
          "data": {
            "image/png": "[encoded data removed]",
            "text/plain": [
              "<matplotlib.figure.Figure at 0x7fd481231518>"
            ]
          },
          "metadata": {
            "tags": []
          }
        }
      ]
    },
    {
      "metadata": {
        "id": "4UoIpi0AdXOE",
        "colab_type": "code",
        "colab": {}
      },
      "cell_type": "code",
      "source": [
        ""
      ],
      "execution_count": 0,
      "outputs": []
    }
  ]
}